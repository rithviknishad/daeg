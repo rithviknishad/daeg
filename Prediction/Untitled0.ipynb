{
  "nbformat": 4,
  "nbformat_minor": 0,
  "metadata": {
    "colab": {
      "name": "Untitled0.ipynb",
      "provenance": [],
      "collapsed_sections": []
    },
    "kernelspec": {
      "name": "python3",
      "display_name": "Python 3"
    },
    "language_info": {
      "name": "python"
    },
    "accelerator": "GPU"
  },
  "cells": [
    {
      "cell_type": "code",
      "execution_count": null,
      "metadata": {
        "id": "uKq5ApDk0NFG"
      },
      "outputs": [],
      "source": [
        "# Loading pandas\n",
        "import pandas as pd\n",
        "\n",
        "# Loading date wrangling package\n",
        "from datetime import datetime\n",
        "\n",
        "# Reading the input data\n",
        "d = pd.read_csv('/content/DAYTON_hourly.csv')\n",
        "\n",
        "# Formating to datetime\n",
        "d['Datetime'] = [datetime.strptime(x, '%Y-%m-%d %H:%M:%S') for x in d['Datetime']]\n",
        "\n",
        "# Making sure there are no duplicated data\n",
        "# If there are some duplicates we average the data during those duplicated days\n",
        "d = d.groupby('Datetime', as_index=False)['DAYTON_MW'].mean()\n",
        "\n",
        "# Sorting the values\n",
        "d.sort_values('Datetime', inplace=True)"
      ]
    },
    {
      "cell_type": "code",
      "source": [
        "from google.colab import drive\n",
        "drive.mount('/content/drive')"
      ],
      "metadata": {
        "id": "rN9SxjbQT5D7"
      },
      "execution_count": null,
      "outputs": []
    },
    {
      "cell_type": "code",
      "source": [
        "import numpy as np\n",
        "\n",
        "def create_X_Y(ts: list, lag: int) -> tuple:\n",
        "    \"\"\"\n",
        "    A method to create X and Y matrix from a time series list for the training of \n",
        "    deep learning models \n",
        "    \"\"\"\n",
        "    X, Y = [], []\n",
        "\n",
        "    if len(ts) - lag <= 0:\n",
        "        X.append(ts)\n",
        "    else:\n",
        "        for i in range(len(ts) - lag):\n",
        "            Y.append(ts[i + lag])\n",
        "            X.append(ts[i:(i + lag)])\n",
        "\n",
        "    X, Y = np.array(X), np.array(Y)\n",
        "\n",
        "    # Reshaping the X array to an LSTM input shape \n",
        "    X = np.reshape(X, (X.shape[0], X.shape[1], 1))\n",
        "\n",
        "    return X, Y"
      ],
      "metadata": {
        "id": "H1m8eLrI0m7i"
      },
      "execution_count": null,
      "outputs": []
    },
    {
      "cell_type": "code",
      "source": [
        "# Deep learning packages\n",
        "from keras.models import Sequential\n",
        "from keras.layers import LSTM, Dense\n",
        "\n",
        "# Defining the number of neurons in the LSTM layer\n",
        "n_layer = 50\n",
        "\n",
        "# Defining how many lags will be used in the time series\n",
        "n_lag = 3\n",
        "\n",
        "# Defining the model\n",
        "model = Sequential()\n",
        "model.add(LSTM(n_layer, activation='relu', input_shape=(n_lag, 1)))\n",
        "model.add(Dense(1))\n",
        "\n",
        "# The objective functions which will be minimized is mean squared error (mse)\n",
        "model.compile(optimizer='adam', loss='mse')"
      ],
      "metadata": {
        "colab": {
          "base_uri": "https://localhost:8080/"
        },
        "id": "y4bcIF4c0rK4",
        "outputId": "06ca8551-2dee-45cd-e04e-92a5f779b7fb"
      },
      "execution_count": null,
      "outputs": [
        {
          "output_type": "stream",
          "name": "stdout",
          "text": [
            "WARNING:tensorflow:Layer lstm will not use cuDNN kernels since it doesn't meet the criteria. It will use a generic GPU kernel as fallback when running on GPU.\n"
          ]
        }
      ]
    },
    {
      "cell_type": "code",
      "source": [
        "# Data wrangling\n",
        "import pandas as pd\n",
        "import numpy as np\n",
        "\n",
        "# Deep learning: \n",
        "from keras.models import Sequential\n",
        "from keras.layers import LSTM, Dense\n",
        "\n",
        "\n",
        "class DeepModelTS():\n",
        "    \"\"\"\n",
        "    A class to create a deep time series model\n",
        "    \"\"\"\n",
        "    def __init__(\n",
        "        self, \n",
        "        data: pd.DataFrame, \n",
        "        Y_var: str,\n",
        "        lag: int,\n",
        "        LSTM_layer_depth: int, \n",
        "        epochs=10, \n",
        "        batch_size=256,\n",
        "        train_test_split=0\n",
        "    ):\n",
        "\n",
        "        self.data = data \n",
        "        self.Y_var = Y_var \n",
        "        self.lag = lag \n",
        "        self.LSTM_layer_depth = LSTM_layer_depth\n",
        "        self.batch_size = batch_size\n",
        "        self.epochs = epochs\n",
        "        self.train_test_split = train_test_split\n",
        "\n",
        "    @staticmethod\n",
        "    def create_X_Y(ts: list, lag: int) -> tuple:\n",
        "        \"\"\"\n",
        "        A method to create X and Y matrix from a time series list for the training of \n",
        "        deep learning models \n",
        "        \"\"\"\n",
        "        X, Y = [], []\n",
        "\n",
        "        if len(ts) - lag <= 0:\n",
        "            X.append(ts)\n",
        "        else:\n",
        "            for i in range(len(ts) - lag):\n",
        "                Y.append(ts[i + lag])\n",
        "                X.append(ts[i:(i + lag)])\n",
        "\n",
        "        X, Y = np.array(X), np.array(Y)\n",
        "\n",
        "        # Reshaping the X array to an LSTM input shape \n",
        "        X = np.reshape(X, (X.shape[0], X.shape[1], 1))\n",
        "\n",
        "        return X, Y         \n",
        "\n",
        "    def create_data_for_NN(\n",
        "        self,\n",
        "        use_last_n=None\n",
        "        ):\n",
        "        \"\"\"\n",
        "        A method to create data for the neural network model\n",
        "        \"\"\"\n",
        "        # Extracting the main variable we want to model/forecast\n",
        "        y = self.data[self.Y_var].tolist()\n",
        "\n",
        "        # Subseting the time series if needed\n",
        "        if use_last_n is not None:\n",
        "            y = y[-use_last_n:]\n",
        "\n",
        "        # The X matrix will hold the lags of Y \n",
        "        X, Y = self.create_X_Y(y, self.lag)\n",
        "\n",
        "        # Creating training and test sets \n",
        "        X_train = X\n",
        "        X_test = []\n",
        "\n",
        "        Y_train = Y\n",
        "        Y_test = []\n",
        "\n",
        "        if self.train_test_split > 0:\n",
        "            index = round(len(X) * self.train_test_split)\n",
        "            X_train = X[:(len(X) - index)]\n",
        "            X_test = X[-index:]     \n",
        "            \n",
        "            Y_train = Y[:(len(X) - index)]\n",
        "            Y_test = Y[-index:]\n",
        "\n",
        "        return X_train, X_test, Y_train, Y_test\n",
        "\n",
        "    def LSTModel(self):\n",
        "        \"\"\"\n",
        "        A method to fit the LSTM model \n",
        "        \"\"\"\n",
        "        # Getting the data \n",
        "        X_train, X_test, Y_train, Y_test = self.create_data_for_NN()\n",
        "\n",
        "        # Defining the model\n",
        "        model = Sequential()\n",
        "        model.add(LSTM(self.LSTM_layer_depth, activation='relu', input_shape=(self.lag, 1)))\n",
        "        model.add(Dense(1))\n",
        "        model.compile(optimizer='adam', loss='mse')\n",
        "\n",
        "        # Defining the model parameter dict \n",
        "        keras_dict = {\n",
        "            'x': X_train,\n",
        "            'y': Y_train,\n",
        "            'batch_size': self.batch_size,\n",
        "            'epochs': self.epochs,\n",
        "            'shuffle': False\n",
        "        }\n",
        "\n",
        "        if self.train_test_split > 0:\n",
        "            keras_dict.update({\n",
        "                'validation_data': (X_test, Y_test)\n",
        "            })\n",
        "\n",
        "        # Fitting the model \n",
        "        model.fit(\n",
        "            **keras_dict\n",
        "        )\n",
        "\n",
        "        # Saving the model to the class \n",
        "        self.model = model\n",
        "\n",
        "        return model\n",
        "\n",
        "    def predict(self) -> list:\n",
        "        \"\"\"\n",
        "        A method to predict using the test data used in creating the class\n",
        "        \"\"\"\n",
        "        yhat = []\n",
        "\n",
        "        if(self.train_test_split > 0):\n",
        "        \n",
        "            # Getting the last n time series \n",
        "            _, X_test, _, _ = self.create_data_for_NN()        \n",
        "\n",
        "            # Making the prediction list \n",
        "            yhat = [y[0] for y in self.model.predict(X_test)]\n",
        "\n",
        "        return yhat\n",
        "\n",
        "    def predict_n_ahead(self, n_ahead: int):\n",
        "        \"\"\"\n",
        "        A method to predict n time steps ahead\n",
        "        \"\"\"    \n",
        "        X, _, _, _ = self.create_data_for_NN(use_last_n=self.lag)        \n",
        "\n",
        "        # Making the prediction list \n",
        "        yhat = []\n",
        "\n",
        "        for _ in range(n_ahead):\n",
        "            # Making the prediction\n",
        "            fc = self.model.predict(X)\n",
        "            yhat.append(fc)\n",
        "\n",
        "            # Creating a new input matrix for forecasting\n",
        "            X = np.append(X, fc)\n",
        "\n",
        "            # Ommiting the first variable\n",
        "            X = np.delete(X, 0)\n",
        "\n",
        "            # Reshaping for the next iteration\n",
        "            X = np.reshape(X, (1, len(X), 1))\n",
        "\n",
        "        return yhat    "
      ],
      "metadata": {
        "id": "J2SK0Gk40tP4"
      },
      "execution_count": null,
      "outputs": []
    },
    {
      "cell_type": "code",
      "source": [
        "# Initiating the class\n",
        "deep_learner = DeepModelTS(\n",
        "data = d,\n",
        "Y_var = 'DAYTON_MW',\n",
        "lag = 6,\n",
        "LSTM_layer_depth = 50,\n",
        "epochs = 10,\n",
        "batch_size = 256,\n",
        "train_test_split = 0.15\n",
        ")"
      ],
      "metadata": {
        "id": "PIQ9V_fY078n"
      },
      "execution_count": null,
      "outputs": []
    },
    {
      "cell_type": "code",
      "source": [
        "# Fitting the model\n",
        "model = deep_learner.LSTModel()"
      ],
      "metadata": {
        "colab": {
          "base_uri": "https://localhost:8080/"
        },
        "id": "-lX1g8yt1BYz",
        "outputId": "e5537390-a132-4fc6-b1ab-ec77807f3d58"
      },
      "execution_count": null,
      "outputs": [
        {
          "output_type": "stream",
          "name": "stdout",
          "text": [
            "WARNING:tensorflow:Layer lstm_1 will not use cuDNN kernels since it doesn't meet the criteria. It will use a generic GPU kernel as fallback when running on GPU.\n",
            "Epoch 1/10\n",
            "403/403 [==============================] - 8s 13ms/step - loss: 1439849.0000 - val_loss: 10070.3330\n",
            "Epoch 2/10\n",
            "403/403 [==============================] - 5s 13ms/step - loss: 11685.0479 - val_loss: 9458.1992\n",
            "Epoch 3/10\n",
            "403/403 [==============================] - 5s 13ms/step - loss: 6898.8350 - val_loss: 5267.4619\n",
            "Epoch 4/10\n",
            "403/403 [==============================] - 5s 12ms/step - loss: 5507.2524 - val_loss: 4942.9570\n",
            "Epoch 5/10\n",
            "403/403 [==============================] - 5s 12ms/step - loss: 5022.4663 - val_loss: 3958.2896\n",
            "Epoch 6/10\n",
            "403/403 [==============================] - 5s 12ms/step - loss: 4612.4229 - val_loss: 5634.9277\n",
            "Epoch 7/10\n",
            "403/403 [==============================] - 5s 12ms/step - loss: 4205.6431 - val_loss: 5141.3931\n",
            "Epoch 8/10\n",
            "403/403 [==============================] - 5s 12ms/step - loss: 3909.0061 - val_loss: 3702.2625\n",
            "Epoch 9/10\n",
            "403/403 [==============================] - 5s 12ms/step - loss: 3859.4546 - val_loss: 4053.3237\n",
            "Epoch 10/10\n",
            "403/403 [==============================] - 5s 12ms/step - loss: 3651.1570 - val_loss: 4043.0134\n"
          ]
        }
      ]
    },
    {
      "cell_type": "code",
      "source": [
        "deep_learner = DeepModelTS(\n",
        "data = d,\n",
        "Y_var = 'DAYTON_MW',\n",
        "lag = 24, # 24 past hours are used\n",
        "LSTM_layer_depth = 50,\n",
        "epochs = 10,\n",
        "batch_size = 256,\n",
        "train_test_split = 0.15\n",
        ")\n",
        "model = deep_learner.LSTModel()"
      ],
      "metadata": {
        "colab": {
          "base_uri": "https://localhost:8080/"
        },
        "id": "ItSv6mHI1DoO",
        "outputId": "43d93a5b-c9f2-4ea8-f27b-c4c04c23b2f4"
      },
      "execution_count": null,
      "outputs": [
        {
          "output_type": "stream",
          "name": "stdout",
          "text": [
            "WARNING:tensorflow:Layer lstm_1 will not use cuDNN kernels since it doesn't meet the criteria. It will use a generic GPU kernel as fallback when running on GPU.\n",
            "Epoch 1/10\n",
            "403/403 [==============================] - 18s 40ms/step - loss: 711612.1875 - val_loss: 101544.6641\n",
            "Epoch 2/10\n",
            "403/403 [==============================] - 16s 41ms/step - loss: 124850.9531 - val_loss: 89135.5156\n",
            "Epoch 3/10\n",
            "403/403 [==============================] - 16s 40ms/step - loss: 83016.4844 - val_loss: 55620.2148\n",
            "Epoch 4/10\n",
            "403/403 [==============================] - 17s 42ms/step - loss: 69901.5547 - val_loss: 68299.7656\n",
            "Epoch 5/10\n",
            "403/403 [==============================] - 16s 40ms/step - loss: 102298.9141 - val_loss: 462670.9375\n",
            "Epoch 6/10\n",
            "403/403 [==============================] - 16s 41ms/step - loss: 228868.8906 - val_loss: 41516.6289\n",
            "Epoch 7/10\n",
            "403/403 [==============================] - 16s 41ms/step - loss: 64012.2773 - val_loss: 39088.8281\n",
            "Epoch 8/10\n",
            "403/403 [==============================] - 16s 40ms/step - loss: 36866.1250 - val_loss: 35081.0898\n",
            "Epoch 9/10\n",
            "403/403 [==============================] - 17s 41ms/step - loss: 35247.6406 - val_loss: 31336.3340\n",
            "Epoch 10/10\n",
            "403/403 [==============================] - 16s 40ms/step - loss: 29715.6797 - val_loss: 25386.5996\n"
          ]
        }
      ]
    },
    {
      "cell_type": "code",
      "source": [
        "# Defining the lag that we used for training of the model \n",
        "lag_model = 24\n",
        "# Getting the last period\n",
        "ts = d['DAYTON_MW'].tail(lag_model).values.tolist()\n",
        "# Creating the X matrix for the model\n",
        "X, _ = deep_learner.create_X_Y(ts, lag=lag_model)\n",
        "# Getting the forecast\n",
        "yhat = model.predict(X)"
      ],
      "metadata": {
        "id": "T25G6qCA1Hoj"
      },
      "execution_count": null,
      "outputs": []
    },
    {
      "cell_type": "code",
      "source": [
        "import matplotlib.pyplot as plt\n",
        "yhat = deep_learner.predict()\n",
        "# Constructing the forecast dataframe\n",
        "fc = d.tail(len(yhat)).copy()\n",
        "fc.reset_index(inplace=True)\n",
        "fc['forecast'] = yhat\n",
        "# Ploting the forecasts\n",
        "plt.figure(figsize=(12, 8))\n",
        "for dtype in ['DAYTON_MW', 'forecast']:\n",
        "  plt.plot(\n",
        "    'Datetime',\n",
        "    dtype,\n",
        "    data=fc,\n",
        "    label=dtype,\n",
        "    alpha=0.8\n",
        "  )\n",
        "plt.legend()\n",
        "plt.grid()\n",
        "plt.show()"
      ],
      "metadata": {
        "colab": {
          "base_uri": "https://localhost:8080/",
          "height": 483
        },
        "id": "M7HKyaR11J4N",
        "outputId": "d22b1c70-bf1b-4d6c-e320-bd487214a054"
      },
      "execution_count": null,
      "outputs": [
        {
          "output_type": "display_data",
          "data": {
            "image/png": "[encoded data removed]",
            "text/plain": [
              "<Figure size 864x576 with 1 Axes>"
            ]
          },
          "metadata": {
            "needs_background": "light"
          }
        }
      ]
    },
    {
      "cell_type": "code",
      "source": [
        "import pickle\n",
        "# save the model to disk\n",
        "filename = 'finalized_model.sav'\n",
        "pickle.dump(model, open(filename, 'wb'))"
      ],
      "metadata": {
        "colab": {
          "base_uri": "https://localhost:8080/"
        },
        "id": "msbpmt1r6iex",
        "outputId": "d2e971b5-d7cc-4d93-cf21-1bdcc2059fc5"
      },
      "execution_count": null,
      "outputs": [
        {
          "output_type": "stream",
          "name": "stdout",
          "text": [
            "INFO:tensorflow:Assets written to: ram://58b2a6d3-d804-43c5-8e1a-6c1e39cdcb77/assets\n"
          ]
        },
        {
          "output_type": "stream",
          "name": "stderr",
          "text": [
            "WARNING:absl:<keras.layers.recurrent.LSTMCell object at 0x7fde702a2b50> has the same name 'LSTMCell' as a built-in Keras object. Consider renaming <class 'keras.layers.recurrent.LSTMCell'> to avoid naming conflicts when loading with `tf.keras.models.load_model`. If renaming is not possible, pass the object in the `custom_objects` parameter of the load function.\n"
          ]
        }
      ]
    },
    {
      "cell_type": "code",
      "source": [
        "# Defining the lag that we used for training of the model \n",
        "lag_model = 24\n",
        "# Getting the last period\n",
        "ts = d['DAYTON_MW'].tail(lag_model*2).values.tolist()\n",
        "# Creating the X matrix for the model\n",
        "X, _ = deep_learner.create_X_Y(ts, lag=lag_model)\n",
        "# Getting the forecast\n",
        "yhat = model.predict(X)\n",
        "yhat\n"
      ],
      "metadata": {
        "colab": {
          "base_uri": "https://localhost:8080/"
        },
        "id": "a6hdIo1o6_f5",
        "outputId": "3f425600-2954-43fd-fe5b-e9f9d144886a"
      },
      "execution_count": null,
      "outputs": [
        {
          "output_type": "execute_result",
          "data": {
            "text/plain": [
              "array([[1948.299 ],\n",
              "       [1947.7809],\n",
              "       [1947.97  ],\n",
              "       [1628.0817],\n",
              "       [1647.1693],\n",
              "       [1675.68  ],\n",
              "       [1730.432 ],\n",
              "       [1992.2137],\n",
              "       [2204.7427],\n",
              "       [2062.137 ],\n",
              "       [2096.7224],\n",
              "       [2126.3054],\n",
              "       [2158.6301],\n",
              "       [2409.2485],\n",
              "       [2427.1235],\n",
              "       [2436.9634],\n",
              "       [2425.7356],\n",
              "       [2402.728 ],\n",
              "       [2311.5254],\n",
              "       [2278.1428],\n",
              "       [2241.2173],\n",
              "       [2204.6367],\n",
              "       [2161.3545],\n",
              "       [2156.91  ]], dtype=float32)"
            ]
          },
          "metadata": {},
          "execution_count": 18
        }
      ]
    }
  ]
}